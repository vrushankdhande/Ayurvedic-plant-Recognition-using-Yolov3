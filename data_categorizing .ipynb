{
 "cells": [
  {
   "cell_type": "markdown",
   "id": "b55d50c2",
   "metadata": {},
   "source": [
    "# Import libraries"
   ]
  },
  {
   "cell_type": "code",
   "execution_count": null,
   "id": "ec3ad362",
   "metadata": {},
   "outputs": [],
   "source": [
    "import glob, os\n",
    "import os\n",
    "import shutil"
   ]
  },
  {
   "cell_type": "markdown",
   "id": "35c6648c",
   "metadata": {},
   "source": [
    "# Replacing text from .txt file\n",
    "\n"
   ]
  },
  {
   "cell_type": "code",
   "execution_count": null,
   "id": "dbdbec15",
   "metadata": {},
   "outputs": [],
   "source": [
    "os.chdir(\"D:/Projects/LBS/try/square/lbs_annotation-20220201T174129Z-001/lbs_annotation/Mexican Mint/\")  #path of folder were to read.\n",
    "for files in glob.glob(\"*.txt\"):\n",
    "    search_text = \"15\"                               #finding 15 from labels file \n",
    "    replace_text = \"3\"                               #replacing to sorted list which is defined by user\n",
    "    with open(files, 'r') as file:\n",
    "        data = file.read()\n",
    "        data = data.replace(search_text, replace_text)\n",
    "    with open(files, 'w') as file:                   #saving back to same file.\n",
    "        file.write(data)\n",
    "print(\"Text replaced\")"
   ]
  },
  {
   "cell_type": "markdown",
   "id": "1a995f5f",
   "metadata": {},
   "source": [
    "# Moving files from 1folder to common training folder."
   ]
  },
  {
   "cell_type": "code",
   "execution_count": null,
   "id": "4ca7874a",
   "metadata": {},
   "outputs": [],
   "source": [
    "source_folder = r\"D:/Projects/LBS/try/square/lbs_annotation-20220201T174129Z-001/lbs_annotation/Mexican Mint/\" #categorizing folder\n",
    "destination_folder = r\"D:/Projects/LBS/try/final1/\"                         #final folder to categorizing \n",
    "\n",
    "for file_name in os.listdir(source_folder):\n",
    "    source = source_folder + file_name\n",
    "    destination = destination_folder + file_name\n",
    "    if os.path.isfile(source):\n",
    "        shutil.move(source, destination)\n",
    "        print('Moved file:', file_name)"
   ]
  }
 ],
 "metadata": {
  "kernelspec": {
   "display_name": "Python 3",
   "language": "python",
   "name": "python3"
  },
  "language_info": {
   "codemirror_mode": {
    "name": "ipython",
    "version": 3
   },
   "file_extension": ".py",
   "mimetype": "text/x-python",
   "name": "python",
   "nbconvert_exporter": "python",
   "pygments_lexer": "ipython3",
   "version": "3.8.8"
  }
 },
 "nbformat": 4,
 "nbformat_minor": 5
}
